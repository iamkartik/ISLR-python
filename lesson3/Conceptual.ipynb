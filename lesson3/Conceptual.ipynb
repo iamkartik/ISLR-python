{
 "cells": [
  {
   "cell_type": "markdown",
   "metadata": {
    "heading_collapsed": true
   },
   "source": [
    "### 1.\n",
    "<h3>Describe the null hypotheses to which the p-values given in Table 3.4\n",
    "correspond. Explain what conclusions you can draw based on these\n",
    "p-values. Your explanation should be phrased in terms of sales , TV ,\n",
    "radio , and newspaper , rather than in terms of the coefficients of the\n",
    "linear model.</h3>"
   ]
  },
  {
   "cell_type": "markdown",
   "metadata": {
    "hidden": true
   },
   "source": [
    "Null Hypothesis - H0 - indicates that there is no relationship between X (predictor) and Y (response)\n",
    "\n",
    "P value - A smaller P value indicates that there exists an association between the predictor and response.\n",
    "\n",
    "In the given table \n",
    "    \n",
    "    medium        P value\n",
    "    TV             <0.0001 \n",
    "    radio          <0.0001\n",
    "    newspaper      0.8599\n",
    "    \n",
    "Radio and TV have very low p-value ,which implies there exists strong relationship between TV,radio and Sales . Newspaper on the other hand has a higher P value which implies Null Hypothesis, thus it can be rejected from the model."
   ]
  },
  {
   "cell_type": "markdown",
   "metadata": {
    "heading_collapsed": true
   },
   "source": [
    "### 2. \n",
    "<h3>Carefully explain the differences between the KNN classifier and KNN\n",
    "regression methods.</h3>"
   ]
  },
  {
   "cell_type": "markdown",
   "metadata": {
    "hidden": true
   },
   "source": [
    "Although both are similar methods , they have some differences \n",
    "\n",
    "KNN Classifier - The end goal is to classify a point (assign a class to a point) . The Formula uses probablity to assign a class to a point \n",
    "\n",
    "KNN Regression - The end goal is to predict value for a new point . The formula assigns a value based on K nearest values. "
   ]
  },
  {
   "cell_type": "markdown",
   "metadata": {},
   "source": [
    "### 3.\n",
    "\n",
    "<h3>Suppose we have a data set with five predictors, X 1 = GPA, X 2 = IQ,\n",
    "X 3 = Gender (1 for Female and 0 for Male), X 4 = Interaction between\n",
    "GPA and IQ, and X 5 = Interaction between GPA and Gender. The\n",
    "response is starting salary after graduation (in thousands of dollars).\n",
    "Suppose we use least squares to fit the model, and get β̂ 0 = 50, β̂ 1 =\n",
    "20, β̂ 2 = 0.07, β̂ 3 = 35, β̂ 4 = 0.01, β̂ 5 = −10.\n",
    "\n",
    "\n",
    "(a) Which answer is correct, and why?\n",
    "\n",
    "i. For a fixed value of IQ and GPA, males earn more on average\n",
    "than females.\n",
    "\n",
    "ii. For a fixed value of IQ and GPA, females earn more on\n",
    "average than males.\n",
    "\n",
    "iii. For a fixed value of IQ and GPA, males earn more on average\n",
    "than females provided that the GPA is high enough.\n",
    "\n",
    "iv. For a fixed value of IQ and GPA, females earn more on\n",
    "average than males provided that the GPA is high enough.\n",
    "\n",
    "\n",
    "(b) Predict the salary of a female with IQ of 110 and a GPA of 4.0.\n",
    "\n",
    "\n",
    "(c) True or false: Since the coefficient for the GPA/IQ interaction\n",
    "term is very small, there is very little evidence of an interaction\n",
    "effect. Justify your answer.</h3>"
   ]
  },
  {
   "cell_type": "markdown",
   "metadata": {},
   "source": [
    "y = 50 + 20 x1 + 0.07 x2 + 35 x3 + 0.01 x1x2 - 10 x1x3\n",
    "\n",
    "a) Given x1 and x2 are constant , y only depends on gender ( 0 male , 1 female )\n",
    "    male   - y = 50 + 20 x1 + 0.07 x2 + 0.01 x1x2 \n",
    "    female - y = 50 + 20 x1 + 0.07 x2 + 35 + 0.01 x1x2 - 10 x1x3 \n",
    "               = 85 + 20 x1 + 0.07 x2 + 0.01 x1x2 - 10 x1\n",
    "          \n",
    "Thus after a suffiently high GPA males will earn more ( no negative term ) => iii\n",
    "\n",
    "\n",
    "b) 137.1\n",
    "\n",
    "\n",
    "c) False , significance is determined by p value and not by coefficient"
   ]
  },
  {
   "cell_type": "markdown",
   "metadata": {},
   "source": [
    "### 4. \n",
    "<h3>\n",
    "I collect a set of data (n = 100 observations) containing a single\n",
    "predictor and a quantitative response. I then fit a linear regression\n",
    "model to the data, as well as a separate cubic regression, i.e. Y =\n",
    "β 0 + β 1 X + β 2 X 2 + β 3 X 3 + \u0003.\n",
    "\n",
    "\n",
    "(a) Suppose that the true relationship between X and Y is linear,\n",
    "i.e. Y = β 0 + β 1 X + \u0003. Consider the training residual sum of\n",
    "squares (RSS) for the linear regression, and also the training\n",
    "RSS for the cubic regression. Would we expect one to be lower\n",
    "than the other, would we expect them to be the same, or is there\n",
    "not enough information to tell? Justify your answer\n",
    "\n",
    "(b) Answer (a) using test rather than training RSS.\n",
    "\n",
    "\n",
    "(c) Suppose that the true relationship between X and Y is not linear,\n",
    "but we don’t know how far it is from linear. Consider the training\n",
    "RSS for the linear regression, and also the training RSS for the\n",
    "cubic regression. Would we expect one to be lower than the\n",
    "other, would we expect them to be the same, or is there not\n",
    "enough information to tell? Justify your answer.\n",
    "\n",
    "\n",
    "(d) Answer (c) using test rather than training RSS.\n",
    "</h3>"
   ]
  },
  {
   "cell_type": "markdown",
   "metadata": {},
   "source": [
    "a) RSS for the  Polynomial Regression will be lesser in training data , as the curve will try and fir as many points as possible \n",
    "\n",
    "b) As the actual relationship is linear , the polynomial model would have overfitted to the training data. Hence in case of test data , Linear model will have lesser RSS\n",
    "\n",
    "c) RSS for polynomial model will be lesser than the Linear one as the polynomial model can fit the points better in trraining data.\n",
    "\n",
    "d) Due to not knowing ' How far from linear ' we  cannot make assumptions about the test data RSS. If the model is closer to linear then linear model will have less test RSS and vice versa"
   ]
  },
  {
   "cell_type": "markdown",
   "metadata": {},
   "source": [
    "### 5. Find ai"
   ]
  },
  {
   "cell_type": "markdown",
   "metadata": {},
   "source": [
    "<img src=\"5.jpg\" width=300 height=100 >"
   ]
  },
  {
   "cell_type": "markdown",
   "metadata": {},
   "source": [
    "### 6.\n",
    "<h3>Using (3.4), argue that in the case of simple linear regression, the\n",
    "least squares line always passes through the point (x̄, ȳ).</h3>"
   ]
  },
  {
   "cell_type": "markdown",
   "metadata": {},
   "source": [
    "<img src=\"6.jpg\" width>"
   ]
  },
  {
   "cell_type": "markdown",
   "metadata": {},
   "source": [
    "### 7.\n",
    "<h3>It is claimed in the text that in the case of simple linear regression\n",
    "of Y onto X, the R 2 statistic (3.17) is equal to the square of the\n",
    "correlation between X and Y (3.18). Prove that this is the case. For\n",
    "simplicity, you may assume that x̄ = ȳ = 0.</h3>"
   ]
  },
  {
   "cell_type": "markdown",
   "metadata": {},
   "source": [
    "<img src=\"7.1.jpg\" width=100 height=100>"
   ]
  },
  {
   "cell_type": "code",
   "execution_count": null,
   "metadata": {},
   "outputs": [],
   "source": []
  }
 ],
 "metadata": {
  "kernelspec": {
   "display_name": "Python 3",
   "language": "python",
   "name": "python3"
  },
  "language_info": {
   "codemirror_mode": {
    "name": "ipython",
    "version": 3
   },
   "file_extension": ".py",
   "mimetype": "text/x-python",
   "name": "python",
   "nbconvert_exporter": "python",
   "pygments_lexer": "ipython3",
   "version": "3.5.2"
  }
 },
 "nbformat": 4,
 "nbformat_minor": 2
}
