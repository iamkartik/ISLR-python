{
 "cells": [
  {
   "cell_type": "markdown",
   "metadata": {},
   "source": [
    "<h3>1. For each of parts (a) through (d), indicate whether we would generally\n",
    "expect the performance of a flexible statistical learning method to be\n",
    "better or worse than an inflexible method. Justify your answer.<br>\n",
    "\n",
    "\n",
    "(a) The sample size n is extremely large, and the number of predic-\n",
    "tors p is small.\n",
    "\n",
    "\n",
    "(b) The number of predictors p is extremely large, and the number\n",
    "of observations n is small.\n",
    "\n",
    "\n",
    "(c) The relationship between the predictors and response is highly\n",
    "non-linear.\n",
    "\n",
    "\n",
    "(d) The variance of the error terms, i.e. σ 2 = Var(\u0003), is extremely\n",
    "high.</h3>"
   ]
  },
  {
   "cell_type": "markdown",
   "metadata": {},
   "source": [
    "a) Better - With large dataset a flexible model can fit better and get better results than a inflexible model"
   ]
  },
  {
   "cell_type": "markdown",
   "metadata": {},
   "source": [
    "b) Worse - as the data is small and predictors are large ( more degrees of freedom ) , the model is prone to Overfitting"
   ]
  },
  {
   "cell_type": "markdown",
   "metadata": {},
   "source": [
    "c) Better - as flexible models can fit a non linear function much better , with more degrees of freedom"
   ]
  },
  {
   "cell_type": "markdown",
   "metadata": {},
   "source": [
    "d) Worse - as variance is high it a more flexible model will try to fit the training data more and cause variance to increase further"
   ]
  },
  {
   "cell_type": "markdown",
   "metadata": {},
   "source": [
    "<h3>2. Explain whether each scenario is a classification or regression prob-\n",
    "lem, and indicate whether we are most interested in inference or pre-\n",
    "diction. Finally, provide n and p.<br>\n",
    "\n",
    "(a) We collect a set of data on the top 500 firms in the US. For each\n",
    "firm we record profit, number of employees, industry and the\n",
    "CEO salary. We are interested in understanding which factors\n",
    "affect CEO salary.\n",
    "\n",
    "\n",
    "(b) We are considering launching a new product and wish to know\n",
    "whether it will be a success or a failure. We collect data on 20\n",
    "similar products that were previously launched. For each prod-\n",
    "uct we have recorded whether it was a success or failure, price\n",
    "charged for the product, marketing budget, competition price,\n",
    "and ten other variables.\n",
    "\n",
    "\n",
    "(c) We are interest ed in predicting the % change in the USD/Euro\n",
    "exchange rate in relation to the weekly changes in the world\n",
    "stock markets. Hence we collect weekly data for all of 2012. For\n",
    "each week we record the % change in the USD/Euro, the %\n",
    "change in the US market, the % change in the British market,\n",
    "and the % change in the German market.</h3>"
   ]
  },
  {
   "cell_type": "markdown",
   "metadata": {},
   "source": [
    "    a) Regression - as fitting the parameters to find a value\n",
    "       Inference - as it is trying to find the correlations between variables.\n",
    "       p - profit , no of employees,industry\n",
    "       n - Top 500 firms in US\n",
    "       predict - CEO Salary"
   ]
  },
  {
   "cell_type": "markdown",
   "metadata": {},
   "source": [
    "    b) Classification - as trying to predict success/failure \n",
    "       Prediction - as trying to find a value rather than correlation\n",
    "       p - price,marketing budget,competition price, other variables\n",
    "       n - 20 similar products\n",
    "       predict - success/failure"
   ]
  },
  {
   "cell_type": "markdown",
   "metadata": {},
   "source": [
    "    c) Regression - as trying to predict the value ( % change ) \n",
    "       Prediction - predicting % change rather than finding correlation\n",
    "       p - % change in USD/Euro , % change in US market , % change in Brtish market , % change in German market\n",
    "       n - 52 , weekely data for all of 2012\n",
    "       predict - % change in USD/Euro excahnge rate "
   ]
  },
  {
   "cell_type": "markdown",
   "metadata": {},
   "source": [
    "<h3>3. We now revisit the bias-variance decomposition.<br>\n",
    "\n",
    "(a) Provide a sketch of typical (squared) bias, variance, training er-\n",
    "ror, test error, and Bayes (or irreducible) error curves, on a sin-\n",
    "gle plot, as we go from less flexible statistical learning methods\n",
    "towards more flexible approaches. The x-axis should represent\n",
    "the amount of flexibility in the method, and the y-axis should\n",
    "represent the values for each curve. There should be five curves.\n",
    "Make sure to label each one.<br>\n",
    "\n",
    "\n",
    "(b) Explain why each of the five curves has the shape displayed in\n",
    "part (a).</h3>"
   ]
  },
  {
   "cell_type": "markdown",
   "metadata": {},
   "source": [
    "<img src=\"bv.jpg\" width=\"400\" height=\"500\">"
   ]
  },
  {
   "cell_type": "markdown",
   "metadata": {},
   "source": [
    "Bias - As the flexibility increases, bias decreases as model is able to better fit the training data and approximate the real world better\n",
    "\n",
    "Variance - As the flexibility increases , variance also increases as more flexible model is prone to overfitting the training data \n",
    "\n",
    "Training Error - As flexibility increases , training error decreases as more flexible model is able to fit the training data better\n",
    "\n",
    "Irreducible Error - Remains constant across flexibility as defines the lowest limit of error \n",
    "\n",
    "Test Error - Initially decreases as bias is getting decreasing and reaches mininima when both bias and variance is low ; After that increases as model is overfitting"
   ]
  },
  {
   "cell_type": "markdown",
   "metadata": {},
   "source": [
    "<h3>4. You will now think of some real-life applications for statistical learn-\n",
    "ing.<br>\n",
    "\n",
    "\n",
    "(a) Describe three real-life applications in which classification might\n",
    "be useful. Describe the response, as well as the predictors. Is the\n",
    "goal of each application inference or prediction? Explain your\n",
    "answer.<br>\n",
    "\n",
    "(b) Describe three real-life applications in which regression might\n",
    "be useful. Describe the response, as well as the predictors. Is the\n",
    "goal of each application inference or prediction? Explain your\n",
    "answer.<br>\n",
    "\n",
    "(c) Describe three real-life applications in which cluster analysis\n",
    "might be useful.</h3>"
   ]
  },
  {
   "cell_type": "markdown",
   "metadata": {},
   "source": [
    "a) Following applications will be best fit for classification\n",
    "\n",
    "1. Cancer Prediction - the goal will be predicting cancer or not .The predictors can be the vitals of the person , age , mri scans etc.\n",
    "\n",
    "2. Species Prediction - the goal will be to infer characteristics of a species . The predictors can be the height , weight , habitat etc.\n",
    "\n",
    "3. Market Prediction - the goal will be to see if the market moves up or down . The predictors can be previous years data , current news , global markets etc."
   ]
  },
  {
   "cell_type": "markdown",
   "metadata": {},
   "source": [
    "b) Following applications can be solved using Regression\n",
    "\n",
    "1. House price estimation - predict the price of the house. The predictors can be no of rooms , location , size etc.\n",
    "\n",
    "2. Stock price prediction - predict the value of stock . The predictors can be market trend , company size , sales , operating cost etc.\n",
    "\n",
    "3. CEO Salary prediction - infer the reasons behind a CEO's salary . The predictors can be size of company , value of it's stock , sales etc."
   ]
  },
  {
   "cell_type": "markdown",
   "metadata": {},
   "source": [
    "c) Following aplications an be solved using cluster analysis \n",
    "\n",
    "1. Marketing , finding similar types of customers \n",
    "\n",
    "2. Disease , given vitals of people finding which people are prone to a disease\n",
    "\n",
    "3. Social Media , finding the groups of people having similar interests"
   ]
  },
  {
   "cell_type": "markdown",
   "metadata": {},
   "source": [
    "<h3>5. What are the advantages and disadvantages of a very flexible (versus\n",
    "a less flexible) approach for regression or classification? Under what\n",
    "circumstances might a more flexible approach be preferred to a less\n",
    "flexible approach? When might a less flexible approach be preferred?</h3>"
   ]
  },
  {
   "cell_type": "markdown",
   "metadata": {},
   "source": [
    "Flexible - Flexible models can approximate better and give better predictions with large data (lower bias). Are   prone to overfitting (high variance) \n",
    "- Flexible approach works best when we have large predictors and large data and we are not interested in interpretabillity.\n",
    "\n",
    "Less Flexible - Can only approximate to a certain degree (high bias). Are better at inference .\n",
    "- Works best with lesser data and few predictors where we are interested in iterpretability and inference"
   ]
  },
  {
   "cell_type": "markdown",
   "metadata": {},
   "source": [
    "<h3>6. Describe the differences between a parametric and a non-parametric\n",
    "statistical learning approach. What are the advantages of a para-\n",
    "metric approach to regression or classification (as opposed to a non-\n",
    "parametric approach)? What are its disadvantages?</h3>"
   ]
  },
  {
   "cell_type": "markdown",
   "metadata": {},
   "source": [
    "Parametric \n",
    "\n",
    "- Parametric aproach works in two steps , assumption about functional form of f and  fitting the model\n",
    "- It reduces the problem of estimating f down to estimation of few parameters\n",
    "- Makes the problem easier as fitting params is easier than estimating an entire arbitrary function f\n",
    "- Major disadvantage is the model selected may not match the actual f , and with flexible models can lead to overfitting\n",
    "\n",
    "Non Parametric\n",
    "\n",
    "- It does not make explicit assumptions about functional form of f\n",
    "- Seeks an estimate of f as close to the data points as possible\n",
    "- Has the potential to accurately fit a wider range of possible values as no assumptions made\n",
    "- But a large number of observations required to accurately estimate f"
   ]
  },
  {
   "cell_type": "markdown",
   "metadata": {},
   "source": [
    "<h3>7. The table below provides a training data set containing six observa-\n",
    "tions, three predictors, and one qualitative response variable.</h3>\n",
    "            \n",
    "            \n",
    "            Obs  X1  X2  X3   Y\n",
    "            1    0   3   0    Red\n",
    "            2    2   0   0    Red\n",
    "            3    0   1  -3    Red\n",
    "            4    0   1   2    Green\n",
    "            5   -1   0   1    Green\n",
    "            6    1   1   1    Red\n",
    "        \n",
    "<h3>Suppose we wish to use this data set to make a prediction for Y when\n",
    "X 1 = X 2 = X 3 = 0 using K-nearest neighbors.<br>\n",
    "\n",
    "\n",
    "(a) Compute the Euclidean distance between each observation and\n",
    "the test point, X 1 = X 2 = X 3 = 0.\n",
    "\n",
    "(b) What is our prediction with K = 1? Why?\n",
    "\n",
    "(c) What is our prediction with K = 3? Why?\n",
    "\n",
    "(d) If the Bayes decision boundary in this problem is highly non-\n",
    "linear, then would we expect the best value for K to be large or\n",
    "small? Why?</h3>"
   ]
  },
  {
   "cell_type": "markdown",
   "metadata": {},
   "source": [
    "a)  \n",
    "    \n",
    "    Obs Euclidean distance Y\n",
    "    1   3                  Red\n",
    "    2   2                  Red\n",
    "    3   3.16               Red\n",
    "    4   2.23               Green\n",
    "    5   1.41               Green\n",
    "    6   1.73               Red\n",
    "\n",
    "b) Green as only 1 neighbor selected , and closeset is (5,1.41,Green)\n",
    "\n",
    "c) Red as 3 neighbors selected and majority are red (5,1.41,Green),(6,1.73,Red),(2,2,Red)\n",
    "\n",
    "d) Non Linear boundry identifies with K being small ,as large K will take more points and becomes more linear"
   ]
  },
  {
   "cell_type": "code",
   "execution_count": null,
   "metadata": {},
   "outputs": [],
   "source": []
  }
 ],
 "metadata": {
  "kernelspec": {
   "display_name": "Python 3",
   "language": "python",
   "name": "python3"
  },
  "language_info": {
   "codemirror_mode": {
    "name": "ipython",
    "version": 3
   },
   "file_extension": ".py",
   "mimetype": "text/x-python",
   "name": "python",
   "nbconvert_exporter": "python",
   "pygments_lexer": "ipython3",
   "version": "3.5.2"
  }
 },
 "nbformat": 4,
 "nbformat_minor": 2
}
